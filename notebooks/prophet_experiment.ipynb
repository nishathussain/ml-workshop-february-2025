{
 "cells": [
  {
   "cell_type": "markdown",
   "metadata": {},
   "source": [
    "# Experimenting with Prophet Data Preparation\n",
    "\n",
    "This notebook demonstrates how to download and transform stock data for use with Prophet."
   ]
  },
  {
   "cell_type": "code",
   "execution_count": null,
   "metadata": {},
   "outputs": [],
   "source": [
    "import yfinance as yf\n",
    "import pandas as pd\n",
    "import plotly.graph_objects as go\n",
    "\n",
    "def download_stock_data(ticker_symbol):\n",
    "    \"\"\"\n",
    "    Download stock data with error handling and validation\n",
    "    \"\"\"\n",
    "    try:\n",
    "        # Create ticker object and get history\n",
    "        yticker = yf.Ticker(ticker_symbol)\n",
    "        df = yticker.history(period='max')\n",
    "        \n",
    "        if df.empty:\n",
    "            raise ValueError(f\"No data downloaded for {ticker_symbol}\")\n",
    "            \n",
    "        print(f\"Downloaded {len(df)} days of {ticker_symbol} data\")\n",
    "        \n",
    "        # Basic validation\n",
    "        required_columns = ['Open', 'Close', 'Volume']\n",
    "        missing_cols = [col for col in required_columns if col not in df.columns]\n",
    "        if missing_cols:\n",
    "            raise ValueError(f\"Missing required columns: {missing_cols}\")\n",
    "            \n",
    "        return df\n",
    "    \n",
    "    except Exception as e:\n",
    "        print(f\"Error downloading {ticker_symbol}: {str(e)}\")\n",
    "        return None\n",
    "\n",
    "def transform_stock_data(df, ticker):\n",
    "    \"\"\"\n",
    "    Transform stock data for Prophet model\n",
    "    \"\"\"\n",
    "    if df is None:\n",
    "        return None\n",
    "    \n",
    "    # Reset index to make the date a column\n",
    "    df = df.reset_index()\n",
    "    \n",
    "    # Prophet requires columns named 'ds' (date) and 'y' (target)\n",
    "    prophet_df = pd.DataFrame()\n",
    "    prophet_df['ds'] = pd.to_datetime(df['Date']).dt.tz_localize(None)  # Remove timezone\n",
    "    prophet_df['y'] = df['Close'].astype(float)    # Ensure float\n",
    "    \n",
    "    # Add additional features as regressors\n",
    "    prophet_df['volume'] = df['Volume'].astype(float)\n",
    "    prophet_df['open'] = df['Open'].astype(float)\n",
    "    \n",
    "    # Calculate returns\n",
    "    prophet_df['returns'] = prophet_df['y'].pct_change()\n",
    "    \n",
    "    # Calculate moving averages\n",
    "    prophet_df['ma20'] = prophet_df['y'].rolling(window=20).mean()\n",
    "    prophet_df['ma50'] = prophet_df['y'].rolling(window=50).mean()\n",
    "    \n",
    "    # Calculate volatility (20-day rolling standard deviation)\n",
    "    prophet_df['volatility'] = prophet_df['y'].rolling(window=20).std()\n",
    "    \n",
    "    # Add day of week as a feature\n",
    "    prophet_df['day_of_week'] = prophet_df['ds'].dt.dayofweek\n",
    "    \n",
    "    # Fill any missing values\n",
    "    prophet_df = prophet_df.ffill()\n",
    "    \n",
    "    return prophet_df"
   ]
  },
  {
   "cell_type": "markdown",
   "metadata": {},
   "source": [
    "## Download Stock Data"
   ]
  },
  {
   "cell_type": "code",
   "execution_count": null,
   "metadata": {},
   "outputs": [],
   "source": [
    "# Download data for QQQ\n",
    "ticker = \"QQQ\"\n",
    "df = download_stock_data(ticker)\n",
    "\n",
    "print(\"\\nRaw data sample:\")\n",
    "df.head()"
   ]
  },
  {
   "cell_type": "markdown",
   "metadata": {},
   "source": [
    "## Transform Data for Prophet\n",
    "\n",
    "Prophet requires specific column names (read docs here: https://facebook.github.io/prophet/docs/quick_start.html):\n",
    "- 'ds': date column (should be without timezone)\n",
    "- 'y': target variable\n",
    "\n",
    "We'll also add additional features as regressors."
   ]
  },
  {
   "cell_type": "code",
   "execution_count": null,
   "metadata": {},
   "outputs": [],
   "source": [
    "# Transform data into Prophet format\n",
    "prophet_df = transform_stock_data(df, ticker)\n",
    "\n",
    "print(\"\\nTransformed data sample (Prophet format):\")\n",
    "prophet_df.head()"
   ]
  },
  {
   "cell_type": "markdown",
   "metadata": {},
   "source": [
    "## Available Features\n",
    "\n",
    "Let's look at all the features we've created for Prophet:"
   ]
  },
  {
   "cell_type": "code",
   "execution_count": null,
   "metadata": {},
   "outputs": [],
   "source": [
    "print(\"Available features:\")\n",
    "prophet_df.columns.tolist()"
   ]
  },
  {
   "cell_type": "markdown",
   "metadata": {},
   "source": [
    "# Predict with Prophet"
   ]
  },
  {
   "cell_type": "code",
   "execution_count": null,
   "metadata": {},
   "outputs": [],
   "source": [
    "m = Prophet()\n",
    "m.fit(prophet_df)\n",
    "\n"
   ]
  },
  {
   "cell_type": "markdown",
   "metadata": {},
   "source": [
    "## Visualize the Data"
   ]
  },
  {
   "cell_type": "code",
   "execution_count": null,
   "metadata": {},
   "outputs": [],
   "source": [
    "# Create interactive plot\n",
    "fig = go.Figure()\n",
    "\n",
    "# Plot price\n",
    "fig.add_trace(go.Scatter(\n",
    "    x=prophet_df['ds'],\n",
    "    y=prophet_df['y'],\n",
    "    name='Price',\n",
    "    line=dict(color='blue')\n",
    "))\n",
    "\n",
    "# Add moving averages\n",
    "fig.add_trace(go.Scatter(\n",
    "    x=prophet_df['ds'],\n",
    "    y=prophet_df['ma20'],\n",
    "    name='MA20',\n",
    "    line=dict(color='orange', dash='dash')\n",
    "))\n",
    "\n",
    "fig.add_trace(go.Scatter(\n",
    "    x=prophet_df['ds'],\n",
    "    y=prophet_df['ma50'],\n",
    "    name='MA50',\n",
    "    line=dict(color='red', dash='dash')\n",
    "))\n",
    "\n",
    "fig.update_layout(\n",
    "    title=f'{ticker} Stock Price with Moving Averages',\n",
    "    yaxis_title='Price',\n",
    "    template='presentation'\n",
    ")\n",
    "fig.show()"
   ]
  }
 ],
 "metadata": {
  "kernelspec": {
   "display_name": "Python 3",
   "language": "python",
   "name": "python3"
  },
  "language_info": {
   "codemirror_mode": {
    "name": "ipython",
    "version": 3
   },
   "file_extension": ".py",
   "mimetype": "text/x-python",
   "name": "python",
   "nbconvert_exporter": "python",
   "pygments_lexer": "ipython3",
   "version": "3.8.0"
  }
 },
 "nbformat": 4,
 "nbformat_minor": 4
}
