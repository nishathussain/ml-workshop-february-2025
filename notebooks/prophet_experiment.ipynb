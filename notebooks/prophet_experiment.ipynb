{
 "cells": [
  {
   "cell_type": "markdown",
   "metadata": {},
   "source": [
    "# Experimenting with Prophet Data Preparation\n",
    "\n",
    "This notebook demonstrates how to download and transform stock data for use with Prophet."
   ]
  },
  {
   "cell_type": "code",
   "execution_count": null,
   "metadata": {},
   "outputs": [],
   "source": [
    "import yfinance as yf\n",
    "import pandas as pd \n",
    "import plotly.graph_objects as go\n",
    "from prophet import Prophet"
   ]
  },
  {
   "cell_type": "code",
   "execution_count": null,
   "metadata": {},
   "outputs": [],
   "source": [
    "# Check the version of Prophet\n",
    "import prophet\n",
    "prophet.__version__"
   ]
  },
  {
   "cell_type": "code",
   "execution_count": null,
   "metadata": {},
   "outputs": [],
   "source": [
    "\n",
    "def download_stock_data(ticker_symbol):\n",
    "    \"\"\"\n",
    "    Download stock data with error handling and validation\n",
    "    \"\"\"\n",
    "    try:\n",
    "        # Create ticker object and get history\n",
    "        yticker = yf.Ticker(ticker_symbol)\n",
    "        df = yticker.history(period='max')\n",
    "        \n",
    "        if df.empty:\n",
    "            raise ValueError(f\"No data downloaded for {ticker_symbol}\")\n",
    "            \n",
    "        print(f\"Downloaded {len(df)} days of {ticker_symbol} data\")\n",
    "        \n",
    "        # Basic validation\n",
    "        required_columns = ['Open', 'Close', 'Volume']\n",
    "        missing_cols = [col for col in required_columns if col not in df.columns]\n",
    "        if missing_cols:\n",
    "            raise ValueError(f\"Missing required columns: {missing_cols}\")\n",
    "            \n",
    "        return df\n",
    "    \n",
    "    except Exception as e:\n",
    "        print(f\"Error downloading {ticker_symbol}: {str(e)}\")\n",
    "        return None\n",
    "\n",
    "def transform_stock_data(df, ticker):\n",
    "    \"\"\"\n",
    "    Transform stock data for Prophet model\n",
    "    \"\"\"\n",
    "    if df is None:\n",
    "        return None\n",
    "    \n",
    "    # Reset index to make the date a column\n",
    "    df = df.reset_index()\n",
    "    \n",
    "    # Prophet requires columns named 'ds' (date) and 'y' (target)\n",
    "    prophet_df = pd.DataFrame()\n",
    "    prophet_df['ds'] = pd.to_datetime(df['Date']).dt.tz_localize(None)  # Remove timezone\n",
    "    prophet_df['y'] = df['Close'].astype(float)    # Ensure float\n",
    "    \n",
    "    # Add additional features as regressors\n",
    "    prophet_df['volume'] = df['Volume'].astype(float)\n",
    "    prophet_df['open'] = df['Open'].astype(float)\n",
    "    \n",
    "    # Calculate returns\n",
    "    prophet_df['returns'] = prophet_df['y'].pct_change()\n",
    "    \n",
    "    # Calculate moving averages\n",
    "    prophet_df['ma20'] = prophet_df['y'].rolling(window=20).mean()\n",
    "    prophet_df['ma50'] = prophet_df['y'].rolling(window=50).mean()\n",
    "    \n",
    "    # Calculate volatility (20-day rolling standard deviation)\n",
    "    prophet_df['volatility'] = prophet_df['y'].rolling(window=20).std()\n",
    "    \n",
    "    # Add day of week as a feature\n",
    "    prophet_df['day_of_week'] = prophet_df['ds'].dt.dayofweek\n",
    "    \n",
    "    # Fill any missing values\n",
    "    prophet_df = prophet_df.ffill()\n",
    "    \n",
    "    return prophet_df"
   ]
  },
  {
   "cell_type": "markdown",
   "metadata": {},
   "source": [
    "## Download Stock Data"
   ]
  },
  {
   "cell_type": "code",
   "execution_count": null,
   "metadata": {},
   "outputs": [],
   "source": [
    "# Download data for QQQ\n",
    "ticker = \"QQQ\"\n",
    "df = download_stock_data(ticker)\n",
    "\n",
    "print(\"\\nRaw data sample:\")\n",
    "df.head()"
   ]
  },
  {
   "cell_type": "markdown",
   "metadata": {},
   "source": [
    "## Transform Data for Prophet\n",
    "\n",
    "Prophet requires specific column names (read docs here: https://facebook.github.io/prophet/docs/quick_start.html):\n",
    "- 'ds': date column (should be without timezone)\n",
    "- 'y': target variable\n",
    "\n",
    "We'll also add additional features as regressors."
   ]
  },
  {
   "cell_type": "code",
   "execution_count": null,
   "metadata": {},
   "outputs": [],
   "source": [
    "# Transform data into Prophet format\n",
    "prophet_df = transform_stock_data(df, ticker)\n",
    "\n",
    "# !! No Saturdays and Sundays (day_of_week !=5,6)\n",
    "print(\"\\nTransformed data sample (Prophet format):\")\n",
    "prophet_df.tail(10)"
   ]
  },
  {
   "cell_type": "markdown",
   "metadata": {},
   "source": [
    "## Available Features\n",
    "\n",
    "Let's look at all the features we've created for Prophet:"
   ]
  },
  {
   "cell_type": "code",
   "execution_count": null,
   "metadata": {},
   "outputs": [],
   "source": [
    "print(\"Available features:\")\n",
    "prophet_df.columns.tolist()"
   ]
  },
  {
   "cell_type": "markdown",
   "metadata": {},
   "source": [
    "# Predict with Prophet\n",
    "* Simple to use, but mostly black box approach\n",
    "* \"By default, Prophet uses a linear model for its forecast.\"\n",
    "* [Ivan] Good for long-term trend undestanding, but not for the short-term\n",
    "* Automatic changepoint detection in Prophet"
   ]
  },
  {
   "cell_type": "code",
   "execution_count": null,
   "metadata": {},
   "outputs": [],
   "source": [
    "m = Prophet(seasonality_mode = 'multiplicative')\n",
    "m.add_country_holidays(country_name='US')\n",
    "m.add_seasonality(name='monthly', period=30.5, fourier_order=5)\n",
    "m.fit(prophet_df)"
   ]
  },
  {
   "cell_type": "code",
   "execution_count": null,
   "metadata": {},
   "outputs": [],
   "source": [
    "m.train_holiday_names\n"
   ]
  },
  {
   "cell_type": "code",
   "execution_count": null,
   "metadata": {},
   "outputs": [],
   "source": [
    "# Make dates for prediction\n",
    "future = m.make_future_dataframe(periods=365)\n",
    "future.tail(365)"
   ]
  },
  {
   "cell_type": "code",
   "execution_count": null,
   "metadata": {},
   "outputs": [],
   "source": [
    "# Remove weekends using pandas datetime weekday\n",
    "future = future[future['ds'].dt.dayofweek < 5]  # 5 = Saturday, 6 = Sunday\n",
    "future.tail(365)"
   ]
  },
  {
   "cell_type": "code",
   "execution_count": null,
   "metadata": {},
   "outputs": [],
   "source": [
    "forecast = m.predict(future)\n",
    "forecast[['ds', 'yhat', 'yhat_lower', 'yhat_upper']].tail()\n"
   ]
  },
  {
   "cell_type": "code",
   "execution_count": null,
   "metadata": {},
   "outputs": [],
   "source": [
    "# Let's omit static graphs\n",
    "# fig1 = m.plot(forecast)\n",
    "# fig2 = m.plot_components(forecast)"
   ]
  },
  {
   "cell_type": "code",
   "execution_count": null,
   "metadata": {},
   "outputs": [],
   "source": [
    "# Dynamic graphs \n",
    "from prophet.plot import plot_plotly, plot_components_plotly\n",
    "\n",
    "plot_plotly(m, forecast)"
   ]
  },
  {
   "cell_type": "code",
   "execution_count": null,
   "metadata": {},
   "outputs": [],
   "source": [
    "plot_components_plotly(m, forecast)"
   ]
  },
  {
   "cell_type": "code",
   "execution_count": null,
   "metadata": {},
   "outputs": [],
   "source": [
    "# Try to identify the changepoints\n",
    "from prophet.plot import add_changepoints_to_plot\n",
    "fig = m.plot(forecast)\n",
    "a = add_changepoints_to_plot(fig.gca(), m, forecast)\n"
   ]
  },
  {
   "cell_type": "code",
   "execution_count": null,
   "metadata": {},
   "outputs": [],
   "source": [
    "# Python\n",
    "m = Prophet(changepoint_prior_scale=0.5)\n",
    "forecast = m.fit(prophet_df).predict(future)\n",
    "fig = m.plot(forecast)"
   ]
  },
  {
   "cell_type": "code",
   "execution_count": null,
   "metadata": {},
   "outputs": [],
   "source": [
    "# Python\n",
    "m = Prophet(changepoint_prior_scale=0.001)\n",
    "forecast = m.fit(prophet_df).predict(future)\n",
    "fig = m.plot(forecast)"
   ]
  },
  {
   "cell_type": "code",
   "execution_count": null,
   "metadata": {},
   "outputs": [],
   "source": [
    "# https://en.wikipedia.org/wiki/List_of_largest_daily_changes_in_the_S%26P_500_Index\n",
    "# Python\n",
    "m = Prophet(changepoints=['2009-01-20','2011-08-08','2018-02-05','2020-03-16','2022-09-13'])\n",
    "forecast = m.fit(prophet_df).predict(future)\n",
    "fig = m.plot(forecast)"
   ]
  },
  {
   "cell_type": "code",
   "execution_count": null,
   "metadata": {},
   "outputs": [],
   "source": [
    "help(Prophet.add_regressor) "
   ]
  },
  {
   "cell_type": "code",
   "execution_count": null,
   "metadata": {},
   "outputs": [],
   "source": [
    "help(Prophet.fit)"
   ]
  }
 ],
 "metadata": {
  "kernelspec": {
   "display_name": ".venv",
   "language": "python",
   "name": "python3"
  },
  "language_info": {
   "codemirror_mode": {
    "name": "ipython",
    "version": 3
   },
   "file_extension": ".py",
   "mimetype": "text/x-python",
   "name": "python",
   "nbconvert_exporter": "python",
   "pygments_lexer": "ipython3",
   "version": "3.12.7"
  }
 },
 "nbformat": 4,
 "nbformat_minor": 4
}
